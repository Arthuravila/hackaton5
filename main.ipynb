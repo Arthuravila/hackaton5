{
  "cells": [
    {
      "cell_type": "code",
      "execution_count": 6,
      "metadata": {
        "id": "8imdssLSEhLp",
        "colab": {
          "base_uri": "https://localhost:8080/"
        },
        "outputId": "0dbd33e7-005b-4bfd-b823-36c80ab92cd3"
      },
      "outputs": [
        {
          "output_type": "stream",
          "name": "stdout",
          "text": [
            "/content\n"
          ]
        }
      ],
      "source": [
        "import os\n",
        "HOME = os.getcwd()\n",
        "print(HOME)\n",
        "\n",
        "from IPython.display import clear_output"
      ]
    },
    {
      "cell_type": "code",
      "execution_count": null,
      "metadata": {
        "id": "ZX7H6NyFSLbT"
      },
      "outputs": [],
      "source": [
        "!pip install transformers==4.46.1\n",
        "!pip install tokenizers==0.20.3"
      ]
    },
    {
      "cell_type": "code",
      "execution_count": null,
      "metadata": {
        "id": "IM6Lpf9fEl8W"
      },
      "outputs": [],
      "source": [
        "%%time\n",
        "\n",
        "!pip install -q inference-gpu[yolo-world]==0.35.0\n",
        "\n",
        "clear_output()"
      ]
    },
    {
      "cell_type": "code",
      "execution_count": null,
      "metadata": {
        "id": "i7Z63fSpEowa"
      },
      "outputs": [],
      "source": [
        "%%time\n",
        "\n",
        "!pip install -q supervision==0.25.1\n",
        "\n",
        "clear_output()"
      ]
    },
    {
      "cell_type": "code",
      "execution_count": null,
      "metadata": {
        "id": "_VMI0R-hEsSo"
      },
      "outputs": [],
      "source": [
        "import cv2\n",
        "import supervision as sv\n",
        "\n",
        "from tqdm import tqdm\n",
        "from inference.models import YOLOWorld"
      ]
    },
    {
      "cell_type": "code",
      "execution_count": 7,
      "metadata": {
        "id": "rhlGXka0Vbxs"
      },
      "outputs": [],
      "source": [
        "class CFG:\n",
        "    ### model\n",
        "    MODEL_ID = 'yolo_world/l'\n",
        "\n",
        "    ### detections\n",
        "    CLASSES_TO_DETECT = ['knife', 'scissor', 'cutter']\n",
        "    CONFIDENCE = 0.15\n",
        "\n",
        "    ### input videos\n",
        "    SOURCE_VIDEO_PATH = f'{HOME}/video.mp4'\n",
        "\n",
        "    ### save path\n",
        "    TARGET_VIDEO_PATH = f\"{HOME}/video-output.mp4\""
      ]
    },
    {
      "cell_type": "code",
      "execution_count": null,
      "metadata": {
        "id": "VgdHRdEmWMdZ"
      },
      "outputs": [],
      "source": [
        "def get_video_properties(video_path):\n",
        "    # Open the video file\n",
        "    cap = cv2.VideoCapture(video_path)\n",
        "\n",
        "    # Check if the video file is opened successfully\n",
        "    if not cap.isOpened():\n",
        "        raise ValueError(\"Could not open video file\")\n",
        "\n",
        "    # Get video properties\n",
        "    properties = {\n",
        "        \"fps\": int(cap.get(cv2.CAP_PROP_FPS)),\n",
        "        \"frame_count\": int(cap.get(cv2.CAP_PROP_FRAME_COUNT)),\n",
        "        \"duration_seconds\": int( cap.get(cv2.CAP_PROP_FRAME_COUNT) / cap.get(cv2.CAP_PROP_FPS) ),\n",
        "        \"width\": int(cap.get(cv2.CAP_PROP_FRAME_WIDTH)),\n",
        "        \"height\": int(cap.get(cv2.CAP_PROP_FRAME_HEIGHT)),\n",
        "        \"codec\": int(cap.get(cv2.CAP_PROP_FOURCC)),\n",
        "    }\n",
        "\n",
        "    # Release the video capture object\n",
        "    cap.release()\n",
        "\n",
        "    return properties"
      ]
    },
    {
      "cell_type": "code",
      "execution_count": null,
      "metadata": {
        "colab": {
          "base_uri": "https://localhost:8080/"
        },
        "id": "BTxvEUHgWOQM",
        "outputId": "1e0968ec-0175-482d-a8e0-b5ddc159ffbb"
      },
      "outputs": [
        {
          "data": {
            "text/plain": [
              "{'fps': 30,\n",
              " 'frame_count': 1264,\n",
              " 'duration_seconds': 42,\n",
              " 'width': 1920,\n",
              " 'height': 1080,\n",
              " 'codec': 875967080}"
            ]
          },
          "execution_count": 27,
          "metadata": {},
          "output_type": "execute_result"
        }
      ],
      "source": [
        "video_properties = get_video_properties(CFG.SOURCE_VIDEO_PATH)\n",
        "video_properties"
      ]
    },
    {
      "cell_type": "code",
      "execution_count": null,
      "metadata": {
        "colab": {
          "base_uri": "https://localhost:8080/"
        },
        "id": "GuXm2rKSGO8B",
        "outputId": "c6b89c47-f098-4fb8-8345-968afb23c296"
      },
      "outputs": [
        {
          "name": "stdout",
          "output_type": "stream",
          "text": [
            "Creating inference sessions\n"
          ]
        },
        {
          "name": "stderr",
          "output_type": "stream",
          "text": [
            "UserWarning: Specified provider 'OpenVINOExecutionProvider' is not in available provider names.Available providers: 'TensorrtExecutionProvider, CUDAExecutionProvider, CPUExecutionProvider'\n",
            "UserWarning: Specified provider 'CoreMLExecutionProvider' is not in available provider names.Available providers: 'TensorrtExecutionProvider, CUDAExecutionProvider, CPUExecutionProvider'\n"
          ]
        },
        {
          "name": "stdout",
          "output_type": "stream",
          "text": [
            "CLIP model loaded in 0.95 seconds\n"
          ]
        }
      ],
      "source": [
        "model = YOLOWorld(model_id=CFG.MODEL_ID)\n",
        "model.set_classes(CFG.CLASSES_TO_DETECT)"
      ]
    },
    {
      "cell_type": "code",
      "execution_count": null,
      "metadata": {
        "colab": {
          "base_uri": "https://localhost:8080/"
        },
        "id": "Nm7YdbY6GckD",
        "outputId": "74a6939c-2a11-40f0-a6d0-65a594985f46"
      },
      "outputs": [
        {
          "name": "stderr",
          "output_type": "stream",
          "text": [
            "SupervisionWarnings: BoundingBoxAnnotator is deprecated: `BoundingBoxAnnotator` is deprecated and has been renamed to `BoxAnnotator`. `BoundingBoxAnnotator` will be removed in supervision-0.26.0.\n"
          ]
        }
      ],
      "source": [
        "BOUNDING_BOX_ANNOTATOR = sv.BoundingBoxAnnotator(thickness=2)\n",
        "LABEL_ANNOTATOR = sv.LabelAnnotator(text_thickness=2, text_scale=1, text_color=sv.Color.BLACK)"
      ]
    },
    {
      "cell_type": "code",
      "execution_count": null,
      "metadata": {
        "colab": {
          "base_uri": "https://localhost:8080/"
        },
        "id": "a37U9n-9Gpje",
        "outputId": "ce2fe7da-f8c5-4a3e-9a5b-11eacabcd21e"
      },
      "outputs": [
        {
          "name": "stderr",
          "output_type": "stream",
          "text": [
            "100%|██████████| 1264/1264 [01:39<00:00, 12.69it/s]\n"
          ]
        }
      ],
      "source": [
        "frame_generator = sv.get_video_frames_generator(CFG.SOURCE_VIDEO_PATH)\n",
        "video_info = sv.VideoInfo.from_video_path(CFG.SOURCE_VIDEO_PATH)\n",
        "\n",
        "with sv.VideoSink(target_path=CFG.TARGET_VIDEO_PATH, video_info=video_info) as sink:\n",
        "    for frame in tqdm(frame_generator, total=video_info.total_frames):\n",
        "        results = model.infer(frame, confidence=0.15)\n",
        "        detections = sv.Detections.from_inference(results)\n",
        "\n",
        "        annotated_frame = frame.copy()\n",
        "        annotated_frame = BOUNDING_BOX_ANNOTATOR.annotate(annotated_frame, detections)\n",
        "        annotated_frame = LABEL_ANNOTATOR.annotate(annotated_frame, detections)\n",
        "        sink.write_frame(annotated_frame)"
      ]
    },
    {
      "cell_type": "code",
      "execution_count": null,
      "metadata": {
        "id": "x0ThkNgGYKzb"
      },
      "outputs": [],
      "source": [
        "!pip install ipywidgets"
      ]
    },
    {
      "cell_type": "code",
      "execution_count": 3,
      "metadata": {
        "id": "v4SLYAEfKokt"
      },
      "outputs": [],
      "source": [
        "import ipywidgets as widgets\n",
        "from IPython.display import Video"
      ]
    },
    {
      "cell_type": "code",
      "execution_count": null,
      "metadata": {
        "id": "GMsDaj-nKpnP"
      },
      "outputs": [],
      "source": [
        "video_widget = widgets.Video.from_file(CFG.TARGET_VIDEO_PATH)\n",
        "display(video_widget)"
      ]
    }
  ],
  "metadata": {
    "accelerator": "GPU",
    "colab": {
      "gpuType": "T4",
      "provenance": []
    },
    "kernelspec": {
      "display_name": "Python 3",
      "name": "python3"
    },
    "language_info": {
      "name": "python"
    }
  },
  "nbformat": 4,
  "nbformat_minor": 0
}